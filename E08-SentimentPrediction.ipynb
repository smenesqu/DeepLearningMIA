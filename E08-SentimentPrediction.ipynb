{
 "cells": [
  {
   "cell_type": "markdown",
   "metadata": {},
   "source": [
    "# Exercise 08\n",
    "\n",
    " #### Sandra Marcela Meneses Quinchía  -    código: 201727731\n",
    " #### Diego Fernando López Castillo    -    código:200919053\n",
    "\n",
    "\n",
    "## Analyze how travelers expressed their feelings on Twitter\n",
    "\n",
    "A sentiment analysis job about the problems of each major U.S. airline. \n",
    "Twitter data was scraped from February of 2015 and contributors were \n",
    "asked to first classify positive, negative, and neutral tweets, followed\n",
    "by categorizing negative reasons (such as \"late flight\" or \"rude service\")."
   ]
  },
  {
   "cell_type": "code",
   "execution_count": 1,
   "metadata": {},
   "outputs": [
    {
     "data": {
      "text/html": [
       "<div>\n",
       "<style scoped>\n",
       "    .dataframe tbody tr th:only-of-type {\n",
       "        vertical-align: middle;\n",
       "    }\n",
       "\n",
       "    .dataframe tbody tr th {\n",
       "        vertical-align: top;\n",
       "    }\n",
       "\n",
       "    .dataframe thead th {\n",
       "        text-align: right;\n",
       "    }\n",
       "</style>\n",
       "<table border=\"1\" class=\"dataframe\">\n",
       "  <thead>\n",
       "    <tr style=\"text-align: right;\">\n",
       "      <th></th>\n",
       "      <th>airline_sentiment</th>\n",
       "      <th>airline_sentiment_confidence</th>\n",
       "      <th>negativereason</th>\n",
       "      <th>negativereason_confidence</th>\n",
       "      <th>airline</th>\n",
       "      <th>airline_sentiment_gold</th>\n",
       "      <th>name</th>\n",
       "      <th>negativereason_gold</th>\n",
       "      <th>retweet_count</th>\n",
       "      <th>text</th>\n",
       "      <th>tweet_coord</th>\n",
       "      <th>tweet_created</th>\n",
       "      <th>tweet_location</th>\n",
       "      <th>user_timezone</th>\n",
       "    </tr>\n",
       "    <tr>\n",
       "      <th>tweet_id</th>\n",
       "      <th></th>\n",
       "      <th></th>\n",
       "      <th></th>\n",
       "      <th></th>\n",
       "      <th></th>\n",
       "      <th></th>\n",
       "      <th></th>\n",
       "      <th></th>\n",
       "      <th></th>\n",
       "      <th></th>\n",
       "      <th></th>\n",
       "      <th></th>\n",
       "      <th></th>\n",
       "      <th></th>\n",
       "    </tr>\n",
       "  </thead>\n",
       "  <tbody>\n",
       "    <tr>\n",
       "      <th>570306133677760513</th>\n",
       "      <td>neutral</td>\n",
       "      <td>1.0000</td>\n",
       "      <td>NaN</td>\n",
       "      <td>NaN</td>\n",
       "      <td>Virgin America</td>\n",
       "      <td>NaN</td>\n",
       "      <td>cairdin</td>\n",
       "      <td>NaN</td>\n",
       "      <td>0</td>\n",
       "      <td>@VirginAmerica What @dhepburn said.</td>\n",
       "      <td>NaN</td>\n",
       "      <td>2015-02-24 11:35:52 -0800</td>\n",
       "      <td>NaN</td>\n",
       "      <td>Eastern Time (US &amp; Canada)</td>\n",
       "    </tr>\n",
       "    <tr>\n",
       "      <th>570301130888122368</th>\n",
       "      <td>positive</td>\n",
       "      <td>0.3486</td>\n",
       "      <td>NaN</td>\n",
       "      <td>0.0000</td>\n",
       "      <td>Virgin America</td>\n",
       "      <td>NaN</td>\n",
       "      <td>jnardino</td>\n",
       "      <td>NaN</td>\n",
       "      <td>0</td>\n",
       "      <td>@VirginAmerica plus you've added commercials t...</td>\n",
       "      <td>NaN</td>\n",
       "      <td>2015-02-24 11:15:59 -0800</td>\n",
       "      <td>NaN</td>\n",
       "      <td>Pacific Time (US &amp; Canada)</td>\n",
       "    </tr>\n",
       "    <tr>\n",
       "      <th>570301083672813571</th>\n",
       "      <td>neutral</td>\n",
       "      <td>0.6837</td>\n",
       "      <td>NaN</td>\n",
       "      <td>NaN</td>\n",
       "      <td>Virgin America</td>\n",
       "      <td>NaN</td>\n",
       "      <td>yvonnalynn</td>\n",
       "      <td>NaN</td>\n",
       "      <td>0</td>\n",
       "      <td>@VirginAmerica I didn't today... Must mean I n...</td>\n",
       "      <td>NaN</td>\n",
       "      <td>2015-02-24 11:15:48 -0800</td>\n",
       "      <td>Lets Play</td>\n",
       "      <td>Central Time (US &amp; Canada)</td>\n",
       "    </tr>\n",
       "    <tr>\n",
       "      <th>570301031407624196</th>\n",
       "      <td>negative</td>\n",
       "      <td>1.0000</td>\n",
       "      <td>Bad Flight</td>\n",
       "      <td>0.7033</td>\n",
       "      <td>Virgin America</td>\n",
       "      <td>NaN</td>\n",
       "      <td>jnardino</td>\n",
       "      <td>NaN</td>\n",
       "      <td>0</td>\n",
       "      <td>@VirginAmerica it's really aggressive to blast...</td>\n",
       "      <td>NaN</td>\n",
       "      <td>2015-02-24 11:15:36 -0800</td>\n",
       "      <td>NaN</td>\n",
       "      <td>Pacific Time (US &amp; Canada)</td>\n",
       "    </tr>\n",
       "    <tr>\n",
       "      <th>570300817074462722</th>\n",
       "      <td>negative</td>\n",
       "      <td>1.0000</td>\n",
       "      <td>Can't Tell</td>\n",
       "      <td>1.0000</td>\n",
       "      <td>Virgin America</td>\n",
       "      <td>NaN</td>\n",
       "      <td>jnardino</td>\n",
       "      <td>NaN</td>\n",
       "      <td>0</td>\n",
       "      <td>@VirginAmerica and it's a really big bad thing...</td>\n",
       "      <td>NaN</td>\n",
       "      <td>2015-02-24 11:14:45 -0800</td>\n",
       "      <td>NaN</td>\n",
       "      <td>Pacific Time (US &amp; Canada)</td>\n",
       "    </tr>\n",
       "  </tbody>\n",
       "</table>\n",
       "</div>"
      ],
      "text/plain": [
       "                   airline_sentiment  airline_sentiment_confidence  \\\n",
       "tweet_id                                                             \n",
       "570306133677760513           neutral                        1.0000   \n",
       "570301130888122368          positive                        0.3486   \n",
       "570301083672813571           neutral                        0.6837   \n",
       "570301031407624196          negative                        1.0000   \n",
       "570300817074462722          negative                        1.0000   \n",
       "\n",
       "                   negativereason  negativereason_confidence         airline  \\\n",
       "tweet_id                                                                       \n",
       "570306133677760513            NaN                        NaN  Virgin America   \n",
       "570301130888122368            NaN                     0.0000  Virgin America   \n",
       "570301083672813571            NaN                        NaN  Virgin America   \n",
       "570301031407624196     Bad Flight                     0.7033  Virgin America   \n",
       "570300817074462722     Can't Tell                     1.0000  Virgin America   \n",
       "\n",
       "                   airline_sentiment_gold        name negativereason_gold  \\\n",
       "tweet_id                                                                    \n",
       "570306133677760513                    NaN     cairdin                 NaN   \n",
       "570301130888122368                    NaN    jnardino                 NaN   \n",
       "570301083672813571                    NaN  yvonnalynn                 NaN   \n",
       "570301031407624196                    NaN    jnardino                 NaN   \n",
       "570300817074462722                    NaN    jnardino                 NaN   \n",
       "\n",
       "                    retweet_count  \\\n",
       "tweet_id                            \n",
       "570306133677760513              0   \n",
       "570301130888122368              0   \n",
       "570301083672813571              0   \n",
       "570301031407624196              0   \n",
       "570300817074462722              0   \n",
       "\n",
       "                                                                 text  \\\n",
       "tweet_id                                                                \n",
       "570306133677760513                @VirginAmerica What @dhepburn said.   \n",
       "570301130888122368  @VirginAmerica plus you've added commercials t...   \n",
       "570301083672813571  @VirginAmerica I didn't today... Must mean I n...   \n",
       "570301031407624196  @VirginAmerica it's really aggressive to blast...   \n",
       "570300817074462722  @VirginAmerica and it's a really big bad thing...   \n",
       "\n",
       "                   tweet_coord              tweet_created tweet_location  \\\n",
       "tweet_id                                                                   \n",
       "570306133677760513         NaN  2015-02-24 11:35:52 -0800            NaN   \n",
       "570301130888122368         NaN  2015-02-24 11:15:59 -0800            NaN   \n",
       "570301083672813571         NaN  2015-02-24 11:15:48 -0800      Lets Play   \n",
       "570301031407624196         NaN  2015-02-24 11:15:36 -0800            NaN   \n",
       "570300817074462722         NaN  2015-02-24 11:14:45 -0800            NaN   \n",
       "\n",
       "                                 user_timezone  \n",
       "tweet_id                                        \n",
       "570306133677760513  Eastern Time (US & Canada)  \n",
       "570301130888122368  Pacific Time (US & Canada)  \n",
       "570301083672813571  Central Time (US & Canada)  \n",
       "570301031407624196  Pacific Time (US & Canada)  \n",
       "570300817074462722  Pacific Time (US & Canada)  "
      ]
     },
     "execution_count": 1,
     "metadata": {},
     "output_type": "execute_result"
    }
   ],
   "source": [
    "import pandas as pd\n",
    "import numpy as np\n",
    "\n",
    "%matplotlib inline\n",
    "import matplotlib.pyplot as plt\n",
    "\n",
    "# read the data and set the datetime as the index\n",
    "import zipfile\n",
    "with zipfile.ZipFile('../datasets/Tweets.zip', 'r') as z:\n",
    "    f = z.open('Tweets.csv')\n",
    "    tweets = pd.read_csv(f, index_col=0)\n",
    "\n",
    "tweets.head()"
   ]
  },
  {
   "cell_type": "code",
   "execution_count": 2,
   "metadata": {},
   "outputs": [
    {
     "data": {
      "text/html": [
       "<div>\n",
       "<style scoped>\n",
       "    .dataframe tbody tr th:only-of-type {\n",
       "        vertical-align: middle;\n",
       "    }\n",
       "\n",
       "    .dataframe tbody tr th {\n",
       "        vertical-align: top;\n",
       "    }\n",
       "\n",
       "    .dataframe thead th {\n",
       "        text-align: right;\n",
       "    }\n",
       "</style>\n",
       "<table border=\"1\" class=\"dataframe\">\n",
       "  <thead>\n",
       "    <tr style=\"text-align: right;\">\n",
       "      <th></th>\n",
       "      <th>airline_sentiment</th>\n",
       "      <th>text</th>\n",
       "    </tr>\n",
       "    <tr>\n",
       "      <th>tweet_id</th>\n",
       "      <th></th>\n",
       "      <th></th>\n",
       "    </tr>\n",
       "  </thead>\n",
       "  <tbody>\n",
       "    <tr>\n",
       "      <th>570306133677760513</th>\n",
       "      <td>neutral</td>\n",
       "      <td>@VirginAmerica What @dhepburn said.</td>\n",
       "    </tr>\n",
       "    <tr>\n",
       "      <th>570301130888122368</th>\n",
       "      <td>positive</td>\n",
       "      <td>@VirginAmerica plus you've added commercials t...</td>\n",
       "    </tr>\n",
       "    <tr>\n",
       "      <th>570301083672813571</th>\n",
       "      <td>neutral</td>\n",
       "      <td>@VirginAmerica I didn't today... Must mean I n...</td>\n",
       "    </tr>\n",
       "    <tr>\n",
       "      <th>570301031407624196</th>\n",
       "      <td>negative</td>\n",
       "      <td>@VirginAmerica it's really aggressive to blast...</td>\n",
       "    </tr>\n",
       "    <tr>\n",
       "      <th>570300817074462722</th>\n",
       "      <td>negative</td>\n",
       "      <td>@VirginAmerica and it's a really big bad thing...</td>\n",
       "    </tr>\n",
       "    <tr>\n",
       "      <th>570300767074181121</th>\n",
       "      <td>negative</td>\n",
       "      <td>@VirginAmerica seriously would pay $30 a fligh...</td>\n",
       "    </tr>\n",
       "    <tr>\n",
       "      <th>570300616901320704</th>\n",
       "      <td>positive</td>\n",
       "      <td>@VirginAmerica yes, nearly every time I fly VX...</td>\n",
       "    </tr>\n",
       "    <tr>\n",
       "      <th>570300248553349120</th>\n",
       "      <td>neutral</td>\n",
       "      <td>@VirginAmerica Really missed a prime opportuni...</td>\n",
       "    </tr>\n",
       "    <tr>\n",
       "      <th>570299953286942721</th>\n",
       "      <td>positive</td>\n",
       "      <td>@virginamerica Well, I didn't…but NOW I DO! :-D</td>\n",
       "    </tr>\n",
       "    <tr>\n",
       "      <th>570295459631263746</th>\n",
       "      <td>positive</td>\n",
       "      <td>@VirginAmerica it was amazing, and arrived an ...</td>\n",
       "    </tr>\n",
       "    <tr>\n",
       "      <th>570294189143031808</th>\n",
       "      <td>neutral</td>\n",
       "      <td>@VirginAmerica did you know that suicide is th...</td>\n",
       "    </tr>\n",
       "    <tr>\n",
       "      <th>570289724453216256</th>\n",
       "      <td>positive</td>\n",
       "      <td>@VirginAmerica I &amp;lt;3 pretty graphics. so muc...</td>\n",
       "    </tr>\n",
       "    <tr>\n",
       "      <th>570289584061480960</th>\n",
       "      <td>positive</td>\n",
       "      <td>@VirginAmerica This is such a great deal! Alre...</td>\n",
       "    </tr>\n",
       "    <tr>\n",
       "      <th>570287408438120448</th>\n",
       "      <td>positive</td>\n",
       "      <td>@VirginAmerica @virginmedia I'm flying your #f...</td>\n",
       "    </tr>\n",
       "    <tr>\n",
       "      <th>570285904809598977</th>\n",
       "      <td>positive</td>\n",
       "      <td>@VirginAmerica Thanks!</td>\n",
       "    </tr>\n",
       "    <tr>\n",
       "      <th>570282469121007616</th>\n",
       "      <td>negative</td>\n",
       "      <td>@VirginAmerica SFO-PDX schedule is still MIA.</td>\n",
       "    </tr>\n",
       "    <tr>\n",
       "      <th>570277724385734656</th>\n",
       "      <td>positive</td>\n",
       "      <td>@VirginAmerica So excited for my first cross c...</td>\n",
       "    </tr>\n",
       "    <tr>\n",
       "      <th>570276917301137409</th>\n",
       "      <td>negative</td>\n",
       "      <td>@VirginAmerica  I flew from NYC to SFO last we...</td>\n",
       "    </tr>\n",
       "    <tr>\n",
       "      <th>570270684619923457</th>\n",
       "      <td>positive</td>\n",
       "      <td>I ❤️ flying @VirginAmerica. ☺️👍</td>\n",
       "    </tr>\n",
       "    <tr>\n",
       "      <th>570267956648792064</th>\n",
       "      <td>positive</td>\n",
       "      <td>@VirginAmerica you know what would be amazingl...</td>\n",
       "    </tr>\n",
       "    <tr>\n",
       "      <th>570265883513384960</th>\n",
       "      <td>negative</td>\n",
       "      <td>@VirginAmerica why are your first fares in May...</td>\n",
       "    </tr>\n",
       "    <tr>\n",
       "      <th>570264145116819457</th>\n",
       "      <td>positive</td>\n",
       "      <td>@VirginAmerica I love this graphic. http://t.c...</td>\n",
       "    </tr>\n",
       "    <tr>\n",
       "      <th>570259420287868928</th>\n",
       "      <td>positive</td>\n",
       "      <td>@VirginAmerica I love the hipster innovation. ...</td>\n",
       "    </tr>\n",
       "    <tr>\n",
       "      <th>570258822297579520</th>\n",
       "      <td>neutral</td>\n",
       "      <td>@VirginAmerica will you be making BOS&amp;gt;LAS n...</td>\n",
       "    </tr>\n",
       "    <tr>\n",
       "      <th>570256553502068736</th>\n",
       "      <td>negative</td>\n",
       "      <td>@VirginAmerica you guys messed up my seating.....</td>\n",
       "    </tr>\n",
       "    <tr>\n",
       "      <th>570249102404923392</th>\n",
       "      <td>negative</td>\n",
       "      <td>@VirginAmerica status match program.  I applie...</td>\n",
       "    </tr>\n",
       "    <tr>\n",
       "      <th>570239632807370753</th>\n",
       "      <td>negative</td>\n",
       "      <td>@VirginAmerica What happened 2 ur vegan food o...</td>\n",
       "    </tr>\n",
       "    <tr>\n",
       "      <th>570217831557677057</th>\n",
       "      <td>neutral</td>\n",
       "      <td>@VirginAmerica do you miss me? Don't worry we'...</td>\n",
       "    </tr>\n",
       "    <tr>\n",
       "      <th>570207886493782019</th>\n",
       "      <td>negative</td>\n",
       "      <td>@VirginAmerica amazing to me that we can't get...</td>\n",
       "    </tr>\n",
       "    <tr>\n",
       "      <th>570124596180955136</th>\n",
       "      <td>neutral</td>\n",
       "      <td>@VirginAmerica LAX to EWR - Middle seat on a r...</td>\n",
       "    </tr>\n",
       "    <tr>\n",
       "      <th>...</th>\n",
       "      <td>...</td>\n",
       "      <td>...</td>\n",
       "    </tr>\n",
       "    <tr>\n",
       "      <th>569591765793165312</th>\n",
       "      <td>negative</td>\n",
       "      <td>@AmericanAir I understand the weather issue bu...</td>\n",
       "    </tr>\n",
       "    <tr>\n",
       "      <th>569591730506371072</th>\n",
       "      <td>neutral</td>\n",
       "      <td>@AmericanAir guarantee no retribution? If so, ...</td>\n",
       "    </tr>\n",
       "    <tr>\n",
       "      <th>569591700416393216</th>\n",
       "      <td>negative</td>\n",
       "      <td>@AmericanAir a friend is having flight Cancell...</td>\n",
       "    </tr>\n",
       "    <tr>\n",
       "      <th>569591653121597440</th>\n",
       "      <td>negative</td>\n",
       "      <td>@AmericanAir I used the \"call back\" feature wi...</td>\n",
       "    </tr>\n",
       "    <tr>\n",
       "      <th>569591540944756737</th>\n",
       "      <td>negative</td>\n",
       "      <td>@AmericanAir I need to be at work tomorrow at ...</td>\n",
       "    </tr>\n",
       "    <tr>\n",
       "      <th>569591533617307648</th>\n",
       "      <td>negative</td>\n",
       "      <td>@AmericanAir  ugh Dump us in dfw w/no luggage ...</td>\n",
       "    </tr>\n",
       "    <tr>\n",
       "      <th>569591393540288512</th>\n",
       "      <td>negative</td>\n",
       "      <td>@AmericanAir Cancelled Flights my flight, does...</td>\n",
       "    </tr>\n",
       "    <tr>\n",
       "      <th>569591285150908416</th>\n",
       "      <td>positive</td>\n",
       "      <td>@AmericanAir DMing you now! Big thanks.</td>\n",
       "    </tr>\n",
       "    <tr>\n",
       "      <th>569591136534319105</th>\n",
       "      <td>negative</td>\n",
       "      <td>@AmericanAir 3078 is overweight so you pull 2 ...</td>\n",
       "    </tr>\n",
       "    <tr>\n",
       "      <th>569590988395708416</th>\n",
       "      <td>positive</td>\n",
       "      <td>@AmericanAir I love your company and your staf...</td>\n",
       "    </tr>\n",
       "    <tr>\n",
       "      <th>569590965880532993</th>\n",
       "      <td>negative</td>\n",
       "      <td>@AmericanAir I wait 2+ hrs for CS to call me b...</td>\n",
       "    </tr>\n",
       "    <tr>\n",
       "      <th>569590892085915649</th>\n",
       "      <td>negative</td>\n",
       "      <td>@AmericanAir I've been on hold for 55 mins abo...</td>\n",
       "    </tr>\n",
       "    <tr>\n",
       "      <th>569590191758962688</th>\n",
       "      <td>negative</td>\n",
       "      <td>I just need a place to sleep when I land witho...</td>\n",
       "    </tr>\n",
       "    <tr>\n",
       "      <th>569590013278756865</th>\n",
       "      <td>positive</td>\n",
       "      <td>@AmericanAir Love the new planes for the JFK-L...</td>\n",
       "    </tr>\n",
       "    <tr>\n",
       "      <th>569589959088173056</th>\n",
       "      <td>negative</td>\n",
       "      <td>@AmericanAir Call me Chairman, or call me Emer...</td>\n",
       "    </tr>\n",
       "    <tr>\n",
       "      <th>569589643487928321</th>\n",
       "      <td>positive</td>\n",
       "      <td>@AmericanAir Flight 236 was great. Fantastic c...</td>\n",
       "    </tr>\n",
       "    <tr>\n",
       "      <th>569589460226183168</th>\n",
       "      <td>negative</td>\n",
       "      <td>@AmericanAir Flight 953 NYC-Buenos Aires has b...</td>\n",
       "    </tr>\n",
       "    <tr>\n",
       "      <th>569588816438169600</th>\n",
       "      <td>negative</td>\n",
       "      <td>@AmericanAir Flight Cancelled Flightled, can't...</td>\n",
       "    </tr>\n",
       "    <tr>\n",
       "      <th>569588651925098496</th>\n",
       "      <td>positive</td>\n",
       "      <td>Thank you. “@AmericanAir: @jlhalldc Customer R...</td>\n",
       "    </tr>\n",
       "    <tr>\n",
       "      <th>569588591602458624</th>\n",
       "      <td>negative</td>\n",
       "      <td>@AmericanAir How do I change my flight if the ...</td>\n",
       "    </tr>\n",
       "    <tr>\n",
       "      <th>569588473050611712</th>\n",
       "      <td>positive</td>\n",
       "      <td>@AmericanAir Thanks! He is.</td>\n",
       "    </tr>\n",
       "    <tr>\n",
       "      <th>569588464896876545</th>\n",
       "      <td>negative</td>\n",
       "      <td>@AmericanAir thx for nothing on getting us out...</td>\n",
       "    </tr>\n",
       "    <tr>\n",
       "      <th>569587813856841728</th>\n",
       "      <td>neutral</td>\n",
       "      <td>“@AmericanAir: @TilleyMonsta George, that does...</td>\n",
       "    </tr>\n",
       "    <tr>\n",
       "      <th>569587705937600512</th>\n",
       "      <td>negative</td>\n",
       "      <td>@AmericanAir my flight was Cancelled Flightled...</td>\n",
       "    </tr>\n",
       "    <tr>\n",
       "      <th>569587691626622976</th>\n",
       "      <td>negative</td>\n",
       "      <td>@AmericanAir right on cue with the delays👌</td>\n",
       "    </tr>\n",
       "    <tr>\n",
       "      <th>569587686496825344</th>\n",
       "      <td>positive</td>\n",
       "      <td>@AmericanAir thank you we got on a different f...</td>\n",
       "    </tr>\n",
       "    <tr>\n",
       "      <th>569587371693355008</th>\n",
       "      <td>negative</td>\n",
       "      <td>@AmericanAir leaving over 20 minutes Late Flig...</td>\n",
       "    </tr>\n",
       "    <tr>\n",
       "      <th>569587242672398336</th>\n",
       "      <td>neutral</td>\n",
       "      <td>@AmericanAir Please bring American Airlines to...</td>\n",
       "    </tr>\n",
       "    <tr>\n",
       "      <th>569587188687634433</th>\n",
       "      <td>negative</td>\n",
       "      <td>@AmericanAir you have my money, you change my ...</td>\n",
       "    </tr>\n",
       "    <tr>\n",
       "      <th>569587140490866689</th>\n",
       "      <td>neutral</td>\n",
       "      <td>@AmericanAir we have 8 ppl so we need 2 know h...</td>\n",
       "    </tr>\n",
       "  </tbody>\n",
       "</table>\n",
       "<p>14640 rows × 2 columns</p>\n",
       "</div>"
      ],
      "text/plain": [
       "                   airline_sentiment  \\\n",
       "tweet_id                               \n",
       "570306133677760513           neutral   \n",
       "570301130888122368          positive   \n",
       "570301083672813571           neutral   \n",
       "570301031407624196          negative   \n",
       "570300817074462722          negative   \n",
       "570300767074181121          negative   \n",
       "570300616901320704          positive   \n",
       "570300248553349120           neutral   \n",
       "570299953286942721          positive   \n",
       "570295459631263746          positive   \n",
       "570294189143031808           neutral   \n",
       "570289724453216256          positive   \n",
       "570289584061480960          positive   \n",
       "570287408438120448          positive   \n",
       "570285904809598977          positive   \n",
       "570282469121007616          negative   \n",
       "570277724385734656          positive   \n",
       "570276917301137409          negative   \n",
       "570270684619923457          positive   \n",
       "570267956648792064          positive   \n",
       "570265883513384960          negative   \n",
       "570264145116819457          positive   \n",
       "570259420287868928          positive   \n",
       "570258822297579520           neutral   \n",
       "570256553502068736          negative   \n",
       "570249102404923392          negative   \n",
       "570239632807370753          negative   \n",
       "570217831557677057           neutral   \n",
       "570207886493782019          negative   \n",
       "570124596180955136           neutral   \n",
       "...                              ...   \n",
       "569591765793165312          negative   \n",
       "569591730506371072           neutral   \n",
       "569591700416393216          negative   \n",
       "569591653121597440          negative   \n",
       "569591540944756737          negative   \n",
       "569591533617307648          negative   \n",
       "569591393540288512          negative   \n",
       "569591285150908416          positive   \n",
       "569591136534319105          negative   \n",
       "569590988395708416          positive   \n",
       "569590965880532993          negative   \n",
       "569590892085915649          negative   \n",
       "569590191758962688          negative   \n",
       "569590013278756865          positive   \n",
       "569589959088173056          negative   \n",
       "569589643487928321          positive   \n",
       "569589460226183168          negative   \n",
       "569588816438169600          negative   \n",
       "569588651925098496          positive   \n",
       "569588591602458624          negative   \n",
       "569588473050611712          positive   \n",
       "569588464896876545          negative   \n",
       "569587813856841728           neutral   \n",
       "569587705937600512          negative   \n",
       "569587691626622976          negative   \n",
       "569587686496825344          positive   \n",
       "569587371693355008          negative   \n",
       "569587242672398336           neutral   \n",
       "569587188687634433          negative   \n",
       "569587140490866689           neutral   \n",
       "\n",
       "                                                                 text  \n",
       "tweet_id                                                               \n",
       "570306133677760513                @VirginAmerica What @dhepburn said.  \n",
       "570301130888122368  @VirginAmerica plus you've added commercials t...  \n",
       "570301083672813571  @VirginAmerica I didn't today... Must mean I n...  \n",
       "570301031407624196  @VirginAmerica it's really aggressive to blast...  \n",
       "570300817074462722  @VirginAmerica and it's a really big bad thing...  \n",
       "570300767074181121  @VirginAmerica seriously would pay $30 a fligh...  \n",
       "570300616901320704  @VirginAmerica yes, nearly every time I fly VX...  \n",
       "570300248553349120  @VirginAmerica Really missed a prime opportuni...  \n",
       "570299953286942721    @virginamerica Well, I didn't…but NOW I DO! :-D  \n",
       "570295459631263746  @VirginAmerica it was amazing, and arrived an ...  \n",
       "570294189143031808  @VirginAmerica did you know that suicide is th...  \n",
       "570289724453216256  @VirginAmerica I &lt;3 pretty graphics. so muc...  \n",
       "570289584061480960  @VirginAmerica This is such a great deal! Alre...  \n",
       "570287408438120448  @VirginAmerica @virginmedia I'm flying your #f...  \n",
       "570285904809598977                             @VirginAmerica Thanks!  \n",
       "570282469121007616      @VirginAmerica SFO-PDX schedule is still MIA.  \n",
       "570277724385734656  @VirginAmerica So excited for my first cross c...  \n",
       "570276917301137409  @VirginAmerica  I flew from NYC to SFO last we...  \n",
       "570270684619923457                    I ❤️ flying @VirginAmerica. ☺️👍  \n",
       "570267956648792064  @VirginAmerica you know what would be amazingl...  \n",
       "570265883513384960  @VirginAmerica why are your first fares in May...  \n",
       "570264145116819457  @VirginAmerica I love this graphic. http://t.c...  \n",
       "570259420287868928  @VirginAmerica I love the hipster innovation. ...  \n",
       "570258822297579520  @VirginAmerica will you be making BOS&gt;LAS n...  \n",
       "570256553502068736  @VirginAmerica you guys messed up my seating.....  \n",
       "570249102404923392  @VirginAmerica status match program.  I applie...  \n",
       "570239632807370753  @VirginAmerica What happened 2 ur vegan food o...  \n",
       "570217831557677057  @VirginAmerica do you miss me? Don't worry we'...  \n",
       "570207886493782019  @VirginAmerica amazing to me that we can't get...  \n",
       "570124596180955136  @VirginAmerica LAX to EWR - Middle seat on a r...  \n",
       "...                                                               ...  \n",
       "569591765793165312  @AmericanAir I understand the weather issue bu...  \n",
       "569591730506371072  @AmericanAir guarantee no retribution? If so, ...  \n",
       "569591700416393216  @AmericanAir a friend is having flight Cancell...  \n",
       "569591653121597440  @AmericanAir I used the \"call back\" feature wi...  \n",
       "569591540944756737  @AmericanAir I need to be at work tomorrow at ...  \n",
       "569591533617307648  @AmericanAir  ugh Dump us in dfw w/no luggage ...  \n",
       "569591393540288512  @AmericanAir Cancelled Flights my flight, does...  \n",
       "569591285150908416            @AmericanAir DMing you now! Big thanks.  \n",
       "569591136534319105  @AmericanAir 3078 is overweight so you pull 2 ...  \n",
       "569590988395708416  @AmericanAir I love your company and your staf...  \n",
       "569590965880532993  @AmericanAir I wait 2+ hrs for CS to call me b...  \n",
       "569590892085915649  @AmericanAir I've been on hold for 55 mins abo...  \n",
       "569590191758962688  I just need a place to sleep when I land witho...  \n",
       "569590013278756865  @AmericanAir Love the new planes for the JFK-L...  \n",
       "569589959088173056  @AmericanAir Call me Chairman, or call me Emer...  \n",
       "569589643487928321  @AmericanAir Flight 236 was great. Fantastic c...  \n",
       "569589460226183168  @AmericanAir Flight 953 NYC-Buenos Aires has b...  \n",
       "569588816438169600  @AmericanAir Flight Cancelled Flightled, can't...  \n",
       "569588651925098496  Thank you. “@AmericanAir: @jlhalldc Customer R...  \n",
       "569588591602458624  @AmericanAir How do I change my flight if the ...  \n",
       "569588473050611712                        @AmericanAir Thanks! He is.  \n",
       "569588464896876545  @AmericanAir thx for nothing on getting us out...  \n",
       "569587813856841728  “@AmericanAir: @TilleyMonsta George, that does...  \n",
       "569587705937600512  @AmericanAir my flight was Cancelled Flightled...  \n",
       "569587691626622976         @AmericanAir right on cue with the delays👌  \n",
       "569587686496825344  @AmericanAir thank you we got on a different f...  \n",
       "569587371693355008  @AmericanAir leaving over 20 minutes Late Flig...  \n",
       "569587242672398336  @AmericanAir Please bring American Airlines to...  \n",
       "569587188687634433  @AmericanAir you have my money, you change my ...  \n",
       "569587140490866689  @AmericanAir we have 8 ppl so we need 2 know h...  \n",
       "\n",
       "[14640 rows x 2 columns]"
      ]
     },
     "execution_count": 2,
     "metadata": {},
     "output_type": "execute_result"
    }
   ],
   "source": [
    "tweets[['airline_sentiment','text']]"
   ]
  },
  {
   "cell_type": "code",
   "execution_count": 3,
   "metadata": {},
   "outputs": [
    {
     "data": {
      "text/plain": [
       "(14640, 14)"
      ]
     },
     "execution_count": 3,
     "metadata": {},
     "output_type": "execute_result"
    }
   ],
   "source": [
    "tweets.shape"
   ]
  },
  {
   "cell_type": "markdown",
   "metadata": {},
   "source": [
    "### Proportion of tweets with each sentiment"
   ]
  },
  {
   "cell_type": "code",
   "execution_count": 4,
   "metadata": {},
   "outputs": [
    {
     "data": {
      "text/plain": [
       "negative    9178\n",
       "neutral     3099\n",
       "positive    2363\n",
       "Name: airline_sentiment, dtype: int64"
      ]
     },
     "execution_count": 4,
     "metadata": {},
     "output_type": "execute_result"
    }
   ],
   "source": [
    "tweets['airline_sentiment'].value_counts()"
   ]
  },
  {
   "cell_type": "markdown",
   "metadata": {},
   "source": [
    "### Proportion of tweets per airline\n"
   ]
  },
  {
   "cell_type": "code",
   "execution_count": 5,
   "metadata": {},
   "outputs": [
    {
     "data": {
      "text/plain": [
       "United            3822\n",
       "US Airways        2913\n",
       "American          2759\n",
       "Southwest         2420\n",
       "Delta             2222\n",
       "Virgin America     504\n",
       "Name: airline, dtype: int64"
      ]
     },
     "execution_count": 5,
     "metadata": {},
     "output_type": "execute_result"
    }
   ],
   "source": [
    "tweets['airline'].value_counts()"
   ]
  },
  {
   "cell_type": "code",
   "execution_count": 6,
   "metadata": {},
   "outputs": [
    {
     "data": {
      "text/plain": [
       "<matplotlib.axes._subplots.AxesSubplot at 0x2020346c6d8>"
      ]
     },
     "execution_count": 6,
     "metadata": {},
     "output_type": "execute_result"
    },
    {
     "data": {
      "image/png": "[encoded data removed]",
      "text/plain": [
       "<Figure size 576x432 with 1 Axes>"
      ]
     },
     "metadata": {},
     "output_type": "display_data"
    }
   ],
   "source": [
    "pd.Series(tweets[\"airline\"]).value_counts().plot(kind = \"bar\",figsize=(8,6),rot = 0)"
   ]
  },
  {
   "cell_type": "code",
   "execution_count": 7,
   "metadata": {},
   "outputs": [
    {
     "data": {
      "text/plain": [
       "<matplotlib.axes._subplots.AxesSubplot at 0x20203674748>"
      ]
     },
     "execution_count": 7,
     "metadata": {},
     "output_type": "execute_result"
    },
    {
     "data": {
      "image/png": "[encoded data removed]",
      "text/plain": [
       "<Figure size 720x432 with 1 Axes>"
      ]
     },
     "metadata": {},
     "output_type": "display_data"
    }
   ],
   "source": [
    "pd.crosstab(index = tweets[\"airline\"],columns = tweets[\"airline_sentiment\"]).plot(kind='bar',figsize=(10, 6),alpha=0.5,rot=0,stacked=True,title=\"Sentiment by airline\")"
   ]
  },
  {
   "cell_type": "markdown",
   "metadata": {},
   "source": [
    "# Exercise 8.1 \n",
    "\n",
    "Predict the sentiment using CountVectorizer, stopwords, n_grams, stemmer, TfidfVectorizer\n",
    "\n",
    "use Random Forest classifier"
   ]
  },
  {
   "cell_type": "code",
   "execution_count": 8,
   "metadata": {},
   "outputs": [],
   "source": [
    "from sklearn.model_selection import train_test_split, cross_val_score\n",
    "from sklearn.feature_extraction.text import CountVectorizer, TfidfVectorizer\n",
    "from sklearn.ensemble import RandomForestClassifier\n",
    "from nltk.stem.snowball import SnowballStemmer\n",
    "from nltk.stem import WordNetLemmatizer\n",
    "from sklearn.model_selection import train_test_split\n",
    "from sklearn.multiclass import OneVsRestClassifier\n",
    "from sklearn.metrics import r2_score, roc_auc_score"
   ]
  },
  {
   "cell_type": "code",
   "execution_count": 12,
   "metadata": {},
   "outputs": [],
   "source": [
    "X = tweets['text']\n",
    "y = tweets['airline_sentiment'].map({'negative':-1,'neutral':0,'positive':1})"
   ]
  },
  {
   "cell_type": "code",
   "execution_count": 13,
   "metadata": {},
   "outputs": [
    {
     "data": {
      "text/plain": [
       "count    14640.000000\n",
       "mean        -0.465505\n",
       "std          0.756084\n",
       "min         -1.000000\n",
       "25%         -1.000000\n",
       "50%         -1.000000\n",
       "75%          0.000000\n",
       "max          1.000000\n",
       "Name: airline_sentiment, dtype: float64"
      ]
     },
     "execution_count": 13,
     "metadata": {},
     "output_type": "execute_result"
    }
   ],
   "source": [
    "y.describe()"
   ]
  },
  {
   "cell_type": "code",
   "execution_count": 14,
   "metadata": {},
   "outputs": [],
   "source": [
    "X_train, X_test, y_train, y_test = train_test_split(X, y, test_size=0.33, random_state=42)"
   ]
  },
  {
   "cell_type": "markdown",
   "metadata": {},
   "source": [
    "## CountVectorizer"
   ]
  },
  {
   "cell_type": "code",
   "execution_count": 15,
   "metadata": {},
   "outputs": [],
   "source": [
    "# use CountVectorizer to create document-term matrices from X. Se crea una matriz que cuenta cuantas veces aparece una palabra\n",
    "vect = CountVectorizer()\n",
    "X_dtm = vect.fit_transform(X_train)\n",
    "X_dtm2 = vect.transform(X_test)"
   ]
  },
  {
   "cell_type": "code",
   "execution_count": 16,
   "metadata": {
    "scrolled": true
   },
   "outputs": [
    {
     "data": {
      "text/plain": [
       "(9808, 12056)"
      ]
     },
     "execution_count": 16,
     "metadata": {},
     "output_type": "execute_result"
    }
   ],
   "source": [
    "#12056 tweets\n",
    "X_dtm.shape"
   ]
  },
  {
   "cell_type": "code",
   "execution_count": 17,
   "metadata": {
    "scrolled": true
   },
   "outputs": [
    {
     "data": {
      "text/plain": [
       "matrix([[0, 0, 0, ..., 0, 0, 0],\n",
       "        [0, 0, 0, ..., 0, 0, 0],\n",
       "        [0, 0, 0, ..., 0, 0, 0],\n",
       "        ...,\n",
       "        [0, 0, 0, ..., 0, 0, 0],\n",
       "        [0, 0, 0, ..., 0, 0, 0],\n",
       "        [0, 0, 0, ..., 0, 0, 0]], dtype=int64)"
      ]
     },
     "execution_count": 17,
     "metadata": {},
     "output_type": "execute_result"
    }
   ],
   "source": [
    "#El sistema crea las palabras y le asigna un indice a cada una, genera una matriz para representar de forma matricial el texto.\n",
    "temp= X_dtm.todense()[:10]\n",
    "temp"
   ]
  },
  {
   "cell_type": "code",
   "execution_count": 18,
   "metadata": {
    "scrolled": true
   },
   "outputs": [
    {
     "name": "stdout",
     "output_type": "stream",
     "text": [
      "1680\n"
     ]
    }
   ],
   "source": [
    "print(X_dtm.todense()[0].argmax())"
   ]
  },
  {
   "cell_type": "code",
   "execution_count": 19,
   "metadata": {
    "scrolled": true
   },
   "outputs": [
    {
     "data": {
      "text/plain": [
       "'am'"
      ]
     },
     "execution_count": 19,
     "metadata": {},
     "output_type": "execute_result"
    }
   ],
   "source": [
    "#palabra mas comun\n",
    "vect.get_feature_names()[X_dtm.todense()[0].argmax()]"
   ]
  },
  {
   "cell_type": "code",
   "execution_count": 20,
   "metadata": {},
   "outputs": [
    {
     "name": "stdout",
     "output_type": "stream",
     "text": [
      "['xc6jq70r7b', 'xcvqxykg49', 'xd', 'xdjzkc34gb', 'xedeckgmw5', 'xf9mpnaaje', 'xgfs6tjtmo', 'xgpaayfdwt', 'xhsuupheze', 'xijifymvqp', 'xm', 'xmrvr4lgeg', 'xmz3tf9ix8', 'xna', 'xox', 'xoxo', 'xpm98igqjn', 'xrdtov7nl8', 'xtra', 'xx', 'xx2m2jxqep', 'xx5qscjll1', 'xxppzo88j1', 'xxsaombdgs', 'xxy2d2imnp', 'xzbajmiekx', 'xzmscw', 'y3sahvx3zk', 'y5qe9hcqzt', 'ya', 'yaffasolin', 'yall', 'yards', 'yasss', 'yasssss', 'yay', 'yayayay', 'ybmbgs0dhn', 'yc7v2s0iod', 'yco9dikpt9', 'yday', 'yea', 'yeah', 'year', 'yearly', 'years', 'yeehaw', 'yeg', 'yell', 'yelled']\n"
     ]
    }
   ],
   "source": [
    "# last 50 features\n",
    "print(vect.get_feature_names()[-150:-100])"
   ]
  },
  {
   "cell_type": "code",
   "execution_count": 21,
   "metadata": {},
   "outputs": [],
   "source": [
    "clf = RandomForestClassifier(n_jobs=-1, n_estimators=100, max_depth=10, random_state=42)"
   ]
  },
  {
   "cell_type": "code",
   "execution_count": 22,
   "metadata": {},
   "outputs": [
    {
     "data": {
      "text/plain": [
       "RandomForestClassifier(bootstrap=True, class_weight=None, criterion='gini',\n",
       "            max_depth=10, max_features='auto', max_leaf_nodes=None,\n",
       "            min_impurity_decrease=0.0, min_impurity_split=None,\n",
       "            min_samples_leaf=1, min_samples_split=2,\n",
       "            min_weight_fraction_leaf=0.0, n_estimators=100, n_jobs=-1,\n",
       "            oob_score=False, random_state=42, verbose=0, warm_start=False)"
      ]
     },
     "execution_count": 22,
     "metadata": {},
     "output_type": "execute_result"
    }
   ],
   "source": [
    "clf.fit(X_dtm, y_train)"
   ]
  },
  {
   "cell_type": "code",
   "execution_count": 23,
   "metadata": {},
   "outputs": [],
   "source": [
    "#Predict\n",
    "y_pred_countv = clf.predict_proba(X_dtm2)"
   ]
  },
  {
   "cell_type": "code",
   "execution_count": 24,
   "metadata": {},
   "outputs": [
    {
     "name": "stdout",
     "output_type": "stream",
     "text": [
      "count    10.000000\n",
      "mean      0.621432\n",
      "std       0.000757\n",
      "min       0.620795\n",
      "25%       0.621181\n",
      "50%       0.621305\n",
      "75%       0.621429\n",
      "max       0.623469\n",
      "dtype: float64\n"
     ]
    }
   ],
   "source": [
    "#Accuracy\n",
    "print(pd.Series(cross_val_score(clf,X_dtm,y_train, cv=10)).describe())"
   ]
  },
  {
   "cell_type": "markdown",
   "metadata": {},
   "source": [
    "# Stopwords"
   ]
  },
  {
   "cell_type": "code",
   "execution_count": 25,
   "metadata": {},
   "outputs": [],
   "source": [
    "# use CountVectorizer to create document-term matrices from X. Se crea una matriz que cuenta cuantas veces aparece una palabra\n",
    "vect_s = CountVectorizer(stop_words='english')\n",
    "X_dtms = vect_s.fit_transform(X_train)\n",
    "X_dtms2 = vect_s.transform(X_test)"
   ]
  },
  {
   "cell_type": "code",
   "execution_count": 26,
   "metadata": {
    "scrolled": true
   },
   "outputs": [
    {
     "data": {
      "text/plain": [
       "(9808, 11777)"
      ]
     },
     "execution_count": 26,
     "metadata": {},
     "output_type": "execute_result"
    }
   ],
   "source": [
    "#12056 tweets\n",
    "X_dtms.shape"
   ]
  },
  {
   "cell_type": "code",
   "execution_count": 27,
   "metadata": {
    "scrolled": true
   },
   "outputs": [
    {
     "data": {
      "text/plain": [
       "matrix([[0, 0, 0, ..., 0, 0, 0],\n",
       "        [0, 0, 0, ..., 0, 0, 0],\n",
       "        [0, 0, 0, ..., 0, 0, 0],\n",
       "        ...,\n",
       "        [0, 0, 0, ..., 0, 0, 0],\n",
       "        [0, 0, 0, ..., 0, 0, 0],\n",
       "        [0, 0, 0, ..., 0, 0, 0]], dtype=int64)"
      ]
     },
     "execution_count": 27,
     "metadata": {},
     "output_type": "execute_result"
    }
   ],
   "source": [
    "#El sistema crea las palabras y le asigna un indice a cada una, genera una matriz para representar de forma matricial el texto.\n",
    "temp= X_dtms.todense()[:10]\n",
    "temp"
   ]
  },
  {
   "cell_type": "code",
   "execution_count": 28,
   "metadata": {
    "scrolled": true
   },
   "outputs": [
    {
     "name": "stdout",
     "output_type": "stream",
     "text": [
      "3335\n"
     ]
    }
   ],
   "source": [
    "print(X_dtms.todense()[0].argmax())"
   ]
  },
  {
   "cell_type": "code",
   "execution_count": 29,
   "metadata": {
    "scrolled": true
   },
   "outputs": [
    {
     "data": {
      "text/plain": [
       "'conveyor'"
      ]
     },
     "execution_count": 29,
     "metadata": {},
     "output_type": "execute_result"
    }
   ],
   "source": [
    "#palabra mas comun\n",
    "vect.get_feature_names()[X_dtms.todense()[0].argmax()]"
   ]
  },
  {
   "cell_type": "code",
   "execution_count": 30,
   "metadata": {},
   "outputs": [
    {
     "name": "stdout",
     "output_type": "stream",
     "text": [
      "['x7ilzqdwe2', 'x9blwgwa68', 'x__x', 'xaspqdsqhe', 'xatoxbnsfa', 'xbkvcraokn', 'xc6jq70r7b', 'xcvqxykg49', 'xd', 'xdjzkc34gb', 'xedeckgmw5', 'xf9mpnaaje', 'xgfs6tjtmo', 'xgpaayfdwt', 'xhsuupheze', 'xijifymvqp', 'xm', 'xmrvr4lgeg', 'xmz3tf9ix8', 'xna', 'xox', 'xoxo', 'xpm98igqjn', 'xrdtov7nl8', 'xtra', 'xx', 'xx2m2jxqep', 'xx5qscjll1', 'xxppzo88j1', 'xxsaombdgs', 'xxy2d2imnp', 'xzbajmiekx', 'xzmscw', 'y3sahvx3zk', 'y5qe9hcqzt', 'ya', 'yaffasolin', 'yall', 'yards', 'yasss', 'yasssss', 'yay', 'yayayay', 'ybmbgs0dhn', 'yc7v2s0iod', 'yco9dikpt9', 'yday', 'yea', 'yeah', 'year']\n"
     ]
    }
   ],
   "source": [
    "# last 50 features\n",
    "print(vect_s.get_feature_names()[-150:-100])"
   ]
  },
  {
   "cell_type": "code",
   "execution_count": 31,
   "metadata": {},
   "outputs": [],
   "source": [
    "clf_s = RandomForestClassifier(n_jobs=-1, n_estimators=100, max_depth=10, random_state=42)"
   ]
  },
  {
   "cell_type": "code",
   "execution_count": 32,
   "metadata": {},
   "outputs": [
    {
     "data": {
      "text/plain": [
       "RandomForestClassifier(bootstrap=True, class_weight=None, criterion='gini',\n",
       "            max_depth=10, max_features='auto', max_leaf_nodes=None,\n",
       "            min_impurity_decrease=0.0, min_impurity_split=None,\n",
       "            min_samples_leaf=1, min_samples_split=2,\n",
       "            min_weight_fraction_leaf=0.0, n_estimators=100, n_jobs=-1,\n",
       "            oob_score=False, random_state=42, verbose=0, warm_start=False)"
      ]
     },
     "execution_count": 32,
     "metadata": {},
     "output_type": "execute_result"
    }
   ],
   "source": [
    "clf_s.fit(X_dtms, y_train)"
   ]
  },
  {
   "cell_type": "code",
   "execution_count": 33,
   "metadata": {},
   "outputs": [],
   "source": [
    "#Predict\n",
    "y_pred_countv = clf_s.predict_proba(X_dtms2)"
   ]
  },
  {
   "cell_type": "code",
   "execution_count": 34,
   "metadata": {},
   "outputs": [
    {
     "name": "stdout",
     "output_type": "stream",
     "text": [
      "count    10.000000\n",
      "mean      0.621228\n",
      "std       0.000254\n",
      "min       0.620795\n",
      "25%       0.621181\n",
      "50%       0.621305\n",
      "75%       0.621429\n",
      "max       0.621429\n",
      "dtype: float64\n"
     ]
    }
   ],
   "source": [
    "#Accuracy\n",
    "print(pd.Series(cross_val_score(clf_s,X_dtms,y_train, cv=10)).describe())"
   ]
  },
  {
   "cell_type": "markdown",
   "metadata": {},
   "source": [
    "# N_gram"
   ]
  },
  {
   "cell_type": "code",
   "execution_count": 42,
   "metadata": {},
   "outputs": [
    {
     "data": {
      "text/plain": [
       "(9808, 87608)"
      ]
     },
     "execution_count": 42,
     "metadata": {},
     "output_type": "execute_result"
    }
   ],
   "source": [
    "vect_n = CountVectorizer(ngram_range=(1, 2))\n",
    "X_dtmn = vect_n.fit_transform(X_train)\n",
    "X_dtmn2 = vect_n.transform(X_test)\n",
    "X_dtmn.shape"
   ]
  },
  {
   "cell_type": "code",
   "execution_count": 43,
   "metadata": {},
   "outputs": [],
   "source": [
    "clf_n = RandomForestClassifier(n_jobs=-1, n_estimators=100, max_depth=10, random_state=42)"
   ]
  },
  {
   "cell_type": "code",
   "execution_count": 44,
   "metadata": {},
   "outputs": [
    {
     "data": {
      "text/plain": [
       "RandomForestClassifier(bootstrap=True, class_weight=None, criterion='gini',\n",
       "            max_depth=10, max_features='auto', max_leaf_nodes=None,\n",
       "            min_impurity_decrease=0.0, min_impurity_split=None,\n",
       "            min_samples_leaf=1, min_samples_split=2,\n",
       "            min_weight_fraction_leaf=0.0, n_estimators=100, n_jobs=-1,\n",
       "            oob_score=False, random_state=42, verbose=0, warm_start=False)"
      ]
     },
     "execution_count": 44,
     "metadata": {},
     "output_type": "execute_result"
    }
   ],
   "source": [
    "clf_n.fit(X_dtmn, y_train)"
   ]
  },
  {
   "cell_type": "code",
   "execution_count": 45,
   "metadata": {},
   "outputs": [],
   "source": [
    "#Predict\n",
    "y_pred_countv = clf_n.predict_proba(X_dtmn2)"
   ]
  },
  {
   "cell_type": "code",
   "execution_count": 46,
   "metadata": {},
   "outputs": [
    {
     "name": "stdout",
     "output_type": "stream",
     "text": [
      "count    10.000000\n",
      "mean      0.621228\n",
      "std       0.000254\n",
      "min       0.620795\n",
      "25%       0.621181\n",
      "50%       0.621305\n",
      "75%       0.621429\n",
      "max       0.621429\n",
      "dtype: float64\n"
     ]
    }
   ],
   "source": [
    "#Accuracy\n",
    "print(pd.Series(cross_val_score(clf_n,X_dtmn,y_train, cv=10)).describe())"
   ]
  },
  {
   "cell_type": "markdown",
   "metadata": {},
   "source": [
    "## Stemmer"
   ]
  },
  {
   "cell_type": "code",
   "execution_count": 55,
   "metadata": {},
   "outputs": [],
   "source": [
    "words = list(vect.vocabulary_.keys())[:100]"
   ]
  },
  {
   "cell_type": "code",
   "execution_count": 56,
   "metadata": {},
   "outputs": [
    {
     "name": "stdout",
     "output_type": "stream",
     "text": [
      "['jetblu', 'of', 'cours', 'am', 'americanair', 'complt', 'incompet', 'on', 'flt', '295', 'lav', 'delay', 'from', 'pln', 'that', 'lnded', 'last', 'nite', 'no', 'internet', 'and', 'poor', 'svc', 'not', 'what', 'expect', 'southwestair', 'flight', '4968', 'n8325d', 'depart', 'mco', 'enrout', 'to', 'no_airport', 'http', 'co', 'fd4snvkiem', 'usairway', 'doe', 'anyon', 'your', 'airlin', 'know', 'how', 'do', 'their', 'job', 'unit', 'want', 'plane', 'dad', 'my', '386', 'dalla', 'jacksonvill', 'fl', 'has', 'been', 'cancel', 'flightl', 'one', 'notifi', 'me', 'go', 'it', 'is', 'tri', 'make', 'but', 'probabl', 'too', 'late', 'did', 'see', 'an', 'email', 'could', 'call', 'pittsburgh', 'intern', 'alway', 'look', 'forward', 'jb', 'rt', 'bostongarden', 'look', 'welcom', 'you', 'onboard', 'have', 'the', 'abil', 'switch', 'cannot', 'tell', 'where', 'bag', 'are']\n"
     ]
    }
   ],
   "source": [
    "print([stemmer.stem(word) for word in words])"
   ]
  },
  {
   "cell_type": "code",
   "execution_count": 65,
   "metadata": {},
   "outputs": [
    {
     "data": {
      "text/plain": [
       "(9808, 18559)"
      ]
     },
     "execution_count": 65,
     "metadata": {},
     "output_type": "execute_result"
    }
   ],
   "source": [
    "stemmer = SnowballStemmer('english')\n",
    "\n",
    "def split_into_stemmer(text):\n",
    "    text = text.lower()\n",
    "    words = text.split()\n",
    "    return [stemmer.stem(word) for word in words]\n",
    "\n",
    "vect_st = CountVectorizer(analyzer=split_into_stemmer)\n",
    "X_dtmstm = vect_st.fit_transform(X_train)\n",
    "X_dtmstm2 = vect_st.transform(X_test)\n",
    "X_dtmstm.shape"
   ]
  },
  {
   "cell_type": "code",
   "execution_count": 66,
   "metadata": {},
   "outputs": [],
   "source": [
    "clf_st = RandomForestClassifier(n_jobs=-1, n_estimators=100, max_depth=10, random_state=42)"
   ]
  },
  {
   "cell_type": "code",
   "execution_count": 67,
   "metadata": {},
   "outputs": [
    {
     "data": {
      "text/plain": [
       "RandomForestClassifier(bootstrap=True, class_weight=None, criterion='gini',\n",
       "            max_depth=10, max_features='auto', max_leaf_nodes=None,\n",
       "            min_impurity_decrease=0.0, min_impurity_split=None,\n",
       "            min_samples_leaf=1, min_samples_split=2,\n",
       "            min_weight_fraction_leaf=0.0, n_estimators=100, n_jobs=-1,\n",
       "            oob_score=False, random_state=42, verbose=0, warm_start=False)"
      ]
     },
     "execution_count": 67,
     "metadata": {},
     "output_type": "execute_result"
    }
   ],
   "source": [
    "clf_st.fit(X_dtmstm, y_train)"
   ]
  },
  {
   "cell_type": "code",
   "execution_count": 68,
   "metadata": {},
   "outputs": [],
   "source": [
    "#Predict\n",
    "y_pred_countst = clf_st.predict_proba(X_dtmstm2)"
   ]
  },
  {
   "cell_type": "code",
   "execution_count": 69,
   "metadata": {},
   "outputs": [
    {
     "name": "stdout",
     "output_type": "stream",
     "text": [
      "count    10.000000\n",
      "mean      0.621228\n",
      "std       0.000254\n",
      "min       0.620795\n",
      "25%       0.621181\n",
      "50%       0.621305\n",
      "75%       0.621429\n",
      "max       0.621429\n",
      "dtype: float64\n"
     ]
    }
   ],
   "source": [
    "#Accuracy\n",
    "print(pd.Series(cross_val_score(clf_st,X_dtmstm,y_train, cv=10)).describe())"
   ]
  },
  {
   "cell_type": "markdown",
   "metadata": {},
   "source": [
    "## TfidfVectorizer"
   ]
  },
  {
   "cell_type": "code",
   "execution_count": 89,
   "metadata": {},
   "outputs": [
    {
     "data": {
      "text/plain": [
       "(9808, 12056)"
      ]
     },
     "execution_count": 89,
     "metadata": {},
     "output_type": "execute_result"
    }
   ],
   "source": [
    "vect_tf = TfidfVectorizer()\n",
    "X_dtmtf = vect_tf.fit_transform(X_train)\n",
    "features = vect_tf.get_feature_names()\n",
    "X_dtmtf2 = vect_tf.transform(X_test)\n",
    "X_dtmtf.shape"
   ]
  },
  {
   "cell_type": "code",
   "execution_count": 90,
   "metadata": {},
   "outputs": [],
   "source": [
    "clf_tf = RandomForestClassifier(n_jobs=-1, n_estimators=100, max_depth=10, random_state=42)"
   ]
  },
  {
   "cell_type": "code",
   "execution_count": 91,
   "metadata": {},
   "outputs": [
    {
     "data": {
      "text/plain": [
       "RandomForestClassifier(bootstrap=True, class_weight=None, criterion='gini',\n",
       "            max_depth=10, max_features='auto', max_leaf_nodes=None,\n",
       "            min_impurity_decrease=0.0, min_impurity_split=None,\n",
       "            min_samples_leaf=1, min_samples_split=2,\n",
       "            min_weight_fraction_leaf=0.0, n_estimators=100, n_jobs=-1,\n",
       "            oob_score=False, random_state=42, verbose=0, warm_start=False)"
      ]
     },
     "execution_count": 91,
     "metadata": {},
     "output_type": "execute_result"
    }
   ],
   "source": [
    "clf_tf.fit(X_dtmtf, y_train)"
   ]
  },
  {
   "cell_type": "code",
   "execution_count": 92,
   "metadata": {},
   "outputs": [],
   "source": [
    "#Predict\n",
    "y_pred_tf = clf_tf.predict_proba(X_dtmtf2)"
   ]
  },
  {
   "cell_type": "code",
   "execution_count": 93,
   "metadata": {},
   "outputs": [
    {
     "name": "stdout",
     "output_type": "stream",
     "text": [
      "count    10.000000\n",
      "mean      0.621330\n",
      "std       0.000266\n",
      "min       0.620795\n",
      "25%       0.621181\n",
      "50%       0.621429\n",
      "75%       0.621429\n",
      "max       0.621814\n",
      "dtype: float64\n"
     ]
    }
   ],
   "source": [
    "#Accuracy\n",
    "print(pd.Series(cross_val_score(clf_tf,X_dtmtf,y_train, cv=10)).describe())"
   ]
  },
  {
   "cell_type": "markdown",
   "metadata": {},
   "source": [
    "## Uniendo varios parámetros en un modelo "
   ]
  },
  {
   "cell_type": "code",
   "execution_count": 95,
   "metadata": {},
   "outputs": [],
   "source": [
    "words = list(vect.vocabulary_.keys())[:100]"
   ]
  },
  {
   "cell_type": "code",
   "execution_count": 96,
   "metadata": {},
   "outputs": [
    {
     "name": "stdout",
     "output_type": "stream",
     "text": [
      "['jetblu', 'of', 'cours', 'am', 'americanair', 'complt', 'incompet', 'on', 'flt', '295', 'lav', 'delay', 'from', 'pln', 'that', 'lnded', 'last', 'nite', 'no', 'internet', 'and', 'poor', 'svc', 'not', 'what', 'expect', 'southwestair', 'flight', '4968', 'n8325d', 'depart', 'mco', 'enrout', 'to', 'no_airport', 'http', 'co', 'fd4snvkiem', 'usairway', 'doe', 'anyon', 'your', 'airlin', 'know', 'how', 'do', 'their', 'job', 'unit', 'want', 'plane', 'dad', 'my', '386', 'dalla', 'jacksonvill', 'fl', 'has', 'been', 'cancel', 'flightl', 'one', 'notifi', 'me', 'go', 'it', 'is', 'tri', 'make', 'but', 'probabl', 'too', 'late', 'did', 'see', 'an', 'email', 'could', 'call', 'pittsburgh', 'intern', 'alway', 'look', 'forward', 'jb', 'rt', 'bostongarden', 'look', 'welcom', 'you', 'onboard', 'have', 'the', 'abil', 'switch', 'cannot', 'tell', 'where', 'bag', 'are']\n"
     ]
    }
   ],
   "source": [
    "print([stemmer.stem(word) for word in words])"
   ]
  },
  {
   "cell_type": "code",
   "execution_count": 98,
   "metadata": {},
   "outputs": [
    {
     "data": {
      "text/plain": [
       "(9808, 18559)"
      ]
     },
     "execution_count": 98,
     "metadata": {},
     "output_type": "execute_result"
    }
   ],
   "source": [
    "stemmer = SnowballStemmer('english')\n",
    "\n",
    "def split_into_stemmer(text):\n",
    "    text = text.lower()\n",
    "    words = text.split()\n",
    "    return [stemmer.stem(word) for word in words]\n",
    "\n",
    "vect_ = CountVectorizer(analyzer=split_into_stemmer, ngram_range=(1, 2),stop_words='english')\n",
    "X_dtm_ = vect_st.fit_transform(X_train)\n",
    "X_dtm_2 = vect_st.transform(X_test)\n",
    "X_dtm_.shape"
   ]
  },
  {
   "cell_type": "code",
   "execution_count": 99,
   "metadata": {},
   "outputs": [],
   "source": [
    "clf_ = RandomForestClassifier(n_jobs=-1, n_estimators=100, max_depth=10, random_state=42)"
   ]
  },
  {
   "cell_type": "code",
   "execution_count": 100,
   "metadata": {},
   "outputs": [
    {
     "data": {
      "text/plain": [
       "RandomForestClassifier(bootstrap=True, class_weight=None, criterion='gini',\n",
       "            max_depth=10, max_features='auto', max_leaf_nodes=None,\n",
       "            min_impurity_decrease=0.0, min_impurity_split=None,\n",
       "            min_samples_leaf=1, min_samples_split=2,\n",
       "            min_weight_fraction_leaf=0.0, n_estimators=100, n_jobs=-1,\n",
       "            oob_score=False, random_state=42, verbose=0, warm_start=False)"
      ]
     },
     "execution_count": 100,
     "metadata": {},
     "output_type": "execute_result"
    }
   ],
   "source": [
    "clf_.fit(X_dtm_, y_train)"
   ]
  },
  {
   "cell_type": "code",
   "execution_count": 101,
   "metadata": {},
   "outputs": [],
   "source": [
    "#Predict\n",
    "y_pred_ = clf_.predict_proba(X_dtm_2)"
   ]
  },
  {
   "cell_type": "code",
   "execution_count": 102,
   "metadata": {},
   "outputs": [
    {
     "name": "stdout",
     "output_type": "stream",
     "text": [
      "count    10.000000\n",
      "mean      0.621228\n",
      "std       0.000254\n",
      "min       0.620795\n",
      "25%       0.621181\n",
      "50%       0.621305\n",
      "75%       0.621429\n",
      "max       0.621429\n",
      "dtype: float64\n"
     ]
    }
   ],
   "source": [
    "#Accuracy\n",
    "print(pd.Series(cross_val_score(clf_,X_dtm_,y_train, cv=10)).describe())"
   ]
  },
  {
   "cell_type": "markdown",
   "metadata": {},
   "source": [
    "# Exercise 8.2\n",
    "\n",
    "Train a Deep Neural Network with the following architecture:\n",
    "\n",
    "- Input = text. Vector (countvectorizer). Input shape son las columnas. Es el features \n",
    "- Dense(128)\n",
    "- Relu Activation\n",
    "- BatchNormalization\n",
    "- Dropout(0.5)\n",
    "- Dense(10, Softmax) output es 3\n",
    "\n",
    "Optimized using rmsprop using as loss categorical_crossentropy\n",
    "\n",
    "Hints: \n",
    "- test with two iterations then try more. \n",
    "- learning can be ajusted\n",
    "\n",
    "Evaluate the performance using the testing set (aprox 55% with 50 epochs)"
   ]
  },
  {
   "cell_type": "code",
   "execution_count": 103,
   "metadata": {},
   "outputs": [
    {
     "name": "stderr",
     "output_type": "stream",
     "text": [
      "C:\\ProgramData\\Anaconda3\\lib\\site-packages\\h5py\\__init__.py:36: FutureWarning: Conversion of the second argument of issubdtype from `float` to `np.floating` is deprecated. In future, it will be treated as `np.float64 == np.dtype(float).type`.\n",
      "  from ._conv import register_converters as _register_converters\n",
      "Using TensorFlow backend.\n"
     ]
    }
   ],
   "source": [
    "from keras.models import Sequential\n",
    "from keras.utils import np_utils\n",
    "from keras.layers import Dense, Dropout, Activation, BatchNormalization\n",
    "from keras.optimizers import RMSprop\n",
    "from keras.callbacks import History\n",
    "from livelossplot import PlotLossesKeras"
   ]
  },
  {
   "cell_type": "code",
   "execution_count": 105,
   "metadata": {},
   "outputs": [
    {
     "data": {
      "text/plain": [
       "(9808, 12056)"
      ]
     },
     "execution_count": 105,
     "metadata": {},
     "output_type": "execute_result"
    }
   ],
   "source": [
    "X_dtm.shape"
   ]
  },
  {
   "cell_type": "code",
   "execution_count": 106,
   "metadata": {},
   "outputs": [],
   "source": [
    "Y = np_utils.to_categorical(y_train,3)\n",
    "Y2 = np_utils.to_categorical(y_test,3)"
   ]
  },
  {
   "cell_type": "code",
   "execution_count": 107,
   "metadata": {},
   "outputs": [
    {
     "data": {
      "text/plain": [
       "(12056,)"
      ]
     },
     "execution_count": 107,
     "metadata": {},
     "output_type": "execute_result"
    }
   ],
   "source": [
    "input_shape=X_dtm.shape[1:]\n",
    "input_shape"
   ]
  },
  {
   "cell_type": "code",
   "execution_count": 108,
   "metadata": {},
   "outputs": [],
   "source": [
    "#Dropout ayuda a evitar el overfitting\n",
    "input_shape=X_train.shape\n",
    "\n",
    "model = Sequential()\n",
    "model.add(Dense(units=128,input_shape=X_dtm.shape[1:]))\n",
    "model.add(Activation('relu'))\n",
    "model.add(BatchNormalization())\n",
    "model.add(Dropout(0.5))\n",
    "model.add(Dense(units=3))\n",
    "model.add(Activation('softmax'))"
   ]
  },
  {
   "cell_type": "code",
   "execution_count": 109,
   "metadata": {},
   "outputs": [],
   "source": [
    "#Train\n",
    "from keras.optimizers import rmsprop\n",
    "model.compile(loss = 'categorical_crossentropy',\n",
    "              optimizer = RMSprop(lr=0.0001, rho=0.9, epsilon=None, decay=0.0),\n",
    "              metrics = ['accuracy'])"
   ]
  },
  {
   "cell_type": "code",
   "execution_count": 110,
   "metadata": {},
   "outputs": [
    {
     "name": "stdout",
     "output_type": "stream",
     "text": [
      "_________________________________________________________________\n",
      "Layer (type)                 Output Shape              Param #   \n",
      "=================================================================\n",
      "dense_1 (Dense)              (None, 128)               1543296   \n",
      "_________________________________________________________________\n",
      "activation_1 (Activation)    (None, 128)               0         \n",
      "_________________________________________________________________\n",
      "batch_normalization_1 (Batch (None, 128)               512       \n",
      "_________________________________________________________________\n",
      "dropout_1 (Dropout)          (None, 128)               0         \n",
      "_________________________________________________________________\n",
      "dense_2 (Dense)              (None, 3)                 387       \n",
      "_________________________________________________________________\n",
      "activation_2 (Activation)    (None, 3)                 0         \n",
      "=================================================================\n",
      "Total params: 1,544,195\n",
      "Trainable params: 1,543,939\n",
      "Non-trainable params: 256\n",
      "_________________________________________________________________\n"
     ]
    }
   ],
   "source": [
    "model.summary()"
   ]
  },
  {
   "cell_type": "code",
   "execution_count": 112,
   "metadata": {},
   "outputs": [
    {
     "name": "stdout",
     "output_type": "stream",
     "text": [
      "Epoch 1/50\n",
      " - 9s - loss: 1.0938 - acc: 0.5269\n",
      "Epoch 2/50\n",
      " - 10s - loss: 0.7855 - acc: 0.6766\n",
      "Epoch 3/50\n",
      " - 10s - loss: 0.6529 - acc: 0.7367\n",
      "Epoch 4/50\n",
      " - 10s - loss: 0.5610 - acc: 0.7767\n",
      "Epoch 5/50\n",
      " - 10s - loss: 0.4983 - acc: 0.8087\n",
      "Epoch 6/50\n",
      " - 10s - loss: 0.4438 - acc: 0.8269\n",
      "Epoch 7/50\n",
      " - 9s - loss: 0.4138 - acc: 0.8427\n",
      "Epoch 8/50\n",
      " - 9s - loss: 0.3792 - acc: 0.8564\n",
      "Epoch 9/50\n",
      " - 9s - loss: 0.3549 - acc: 0.8641\n",
      "Epoch 10/50\n",
      " - 9s - loss: 0.3315 - acc: 0.8752\n",
      "Epoch 11/50\n",
      " - 9s - loss: 0.3089 - acc: 0.8874\n",
      "Epoch 12/50\n",
      " - 9s - loss: 0.2884 - acc: 0.8981\n",
      "Epoch 13/50\n",
      " - 9s - loss: 0.2760 - acc: 0.9009\n",
      "Epoch 14/50\n",
      " - 9s - loss: 0.2592 - acc: 0.9071\n",
      "Epoch 15/50\n",
      " - 10s - loss: 0.2475 - acc: 0.9113\n",
      "Epoch 16/50\n",
      " - 11s - loss: 0.2324 - acc: 0.9186\n",
      "Epoch 17/50\n",
      " - 10s - loss: 0.2270 - acc: 0.9215\n",
      "Epoch 18/50\n",
      " - 10s - loss: 0.2166 - acc: 0.9232\n",
      "Epoch 19/50\n",
      " - 9s - loss: 0.2058 - acc: 0.9298\n",
      "Epoch 20/50\n",
      " - 10s - loss: 0.1896 - acc: 0.9372\n",
      "Epoch 21/50\n",
      " - 9s - loss: 0.1803 - acc: 0.9406\n",
      "Epoch 22/50\n",
      " - 9s - loss: 0.1725 - acc: 0.9421\n",
      "Epoch 23/50\n",
      " - 9s - loss: 0.1606 - acc: 0.9457\n",
      "Epoch 24/50\n",
      " - 9s - loss: 0.1604 - acc: 0.9476\n",
      "Epoch 25/50\n",
      " - 9s - loss: 0.1498 - acc: 0.9492\n",
      "Epoch 26/50\n",
      " - 9s - loss: 0.1396 - acc: 0.9537\n",
      "Epoch 27/50\n",
      " - 9s - loss: 0.1374 - acc: 0.9546\n",
      "Epoch 28/50\n",
      " - 9s - loss: 0.1294 - acc: 0.9575\n",
      "Epoch 29/50\n",
      " - 9s - loss: 0.1279 - acc: 0.9574\n",
      "Epoch 30/50\n",
      " - 9s - loss: 0.1265 - acc: 0.9590\n",
      "Epoch 31/50\n",
      " - 9s - loss: 0.1150 - acc: 0.9640\n",
      "Epoch 32/50\n",
      " - 9s - loss: 0.1135 - acc: 0.9633\n",
      "Epoch 33/50\n",
      " - 10s - loss: 0.1067 - acc: 0.9670\n",
      "Epoch 34/50\n",
      " - 9s - loss: 0.1014 - acc: 0.9679\n",
      "Epoch 35/50\n",
      " - 10s - loss: 0.0983 - acc: 0.9701\n",
      "Epoch 36/50\n",
      " - 10s - loss: 0.0939 - acc: 0.9703\n",
      "Epoch 37/50\n",
      " - 10s - loss: 0.0957 - acc: 0.9697\n",
      "Epoch 38/50\n",
      " - 9s - loss: 0.0881 - acc: 0.9732\n",
      "Epoch 39/50\n",
      " - 9s - loss: 0.0819 - acc: 0.9743\n",
      "Epoch 40/50\n",
      " - 9s - loss: 0.0834 - acc: 0.9734\n",
      "Epoch 41/50\n",
      " - 9s - loss: 0.0792 - acc: 0.9742\n",
      "Epoch 42/50\n",
      " - 9s - loss: 0.0814 - acc: 0.9742\n",
      "Epoch 43/50\n",
      " - 9s - loss: 0.0752 - acc: 0.9777\n",
      "Epoch 44/50\n",
      " - 9s - loss: 0.0761 - acc: 0.9763\n",
      "Epoch 45/50\n",
      " - 9s - loss: 0.0709 - acc: 0.9771\n",
      "Epoch 46/50\n",
      " - 9s - loss: 0.0676 - acc: 0.9792\n",
      "Epoch 47/50\n",
      " - 9s - loss: 0.0664 - acc: 0.9801\n",
      "Epoch 48/50\n",
      " - 9s - loss: 0.0642 - acc: 0.9803\n",
      "Epoch 49/50\n",
      " - 9s - loss: 0.0662 - acc: 0.9810\n",
      "Epoch 50/50\n",
      " - 9s - loss: 0.0698 - acc: 0.9778\n"
     ]
    },
    {
     "data": {
      "text/plain": [
       "<keras.callbacks.History at 0x2032f38d128>"
      ]
     },
     "execution_count": 112,
     "metadata": {},
     "output_type": "execute_result"
    }
   ],
   "source": [
    "model.fit(X_dtm, Y, epochs=50, verbose=2)"
   ]
  },
  {
   "cell_type": "code",
   "execution_count": 113,
   "metadata": {},
   "outputs": [
    {
     "name": "stdout",
     "output_type": "stream",
     "text": [
      "[[3.6626219e-04 9.9867260e-01 9.6109841e-04]\n",
      " [2.3596494e-05 1.2739440e-06 9.9997509e-01]\n",
      " [4.0315306e-05 5.6041190e-06 9.9995410e-01]\n",
      " ...\n",
      " [3.8830983e-03 1.4765844e-03 9.9464029e-01]\n",
      " [9.3352884e-01 4.7524750e-02 1.8946396e-02]\n",
      " [6.1976656e-02 2.9762415e-02 9.0826094e-01]]\n"
     ]
    }
   ],
   "source": [
    "#Predict\n",
    "print(model.predict(X_dtm2))"
   ]
  },
  {
   "cell_type": "code",
   "execution_count": 114,
   "metadata": {},
   "outputs": [
    {
     "name": "stdout",
     "output_type": "stream",
     "text": [
      "4832/4832 [==============================] - 2s 450us/step\n",
      "Test score: 0.7163425794500389\n",
      "Test accuracy: 0.7957367549668874\n"
     ]
    }
   ],
   "source": [
    "#Performance\n",
    "score = model.evaluate(X_dtm2, Y2)\n",
    "print('Test score:', score[0])\n",
    "print('Test accuracy:', score[1])"
   ]
  }
 ],
 "metadata": {
  "kernelspec": {
   "display_name": "Python 3",
   "language": "python",
   "name": "python3"
  },
  "language_info": {
   "codemirror_mode": {
    "name": "ipython",
    "version": 3
   },
   "file_extension": ".py",
   "mimetype": "text/x-python",
   "name": "python",
   "nbconvert_exporter": "python",
   "pygments_lexer": "ipython3",
   "version": "3.6.5"
  }
 },
 "nbformat": 4,
 "nbformat_minor": 2
}
